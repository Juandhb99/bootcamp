{
 "cells": [
  {
   "cell_type": "markdown",
   "metadata": {},
   "source": [
    "### 1. Programación orientada a objetos"
   ]
  },
  {
   "cell_type": "markdown",
   "metadata": {},
   "source": [
    "La programación orientada a objetos (OOP), es un paradigma de programación que busca organizar el código por medio de clases. A cada clase se le definen una serie de atributos y funciones llamadas métodos. Luego la clase se instancia creando un objeto el cual va a tener esos atributos y esa funcionalidad.\n",
    "\n",
    "Los atributos hacen referencia a características propias del objeto las cuales son generalmente inmutables.\n",
    "\n",
    "Los métodos hacen referencia a funcionalidades que tiene o hace el objeto.\n",
    "\n",
    "El objetivo se las clases es poder encapsular y juntar funcionalidad similar dentro de una misma clase, para que sea facil de implementar y depurar, además de hacer el código más limpio."
   ]
  },
  {
   "cell_type": "code",
   "execution_count": 2,
   "metadata": {},
   "outputs": [
    {
     "name": "stdout",
     "output_type": "stream",
     "text": [
      "<class 'int'> <class 'str'> <class 'float'>\n"
     ]
    }
   ],
   "source": [
    "x = 200\n",
    "y = \"Hola\"\n",
    "z = 0.001\n",
    "\n",
    "print(type(x), type(y), type(z)) # x, y, z son objetos y cada uno es de una clase diferente la cual corresponde a su tipo."
   ]
  },
  {
   "cell_type": "code",
   "execution_count": 19,
   "metadata": {},
   "outputs": [],
   "source": [
    "class Carro:\n",
    "    \n",
    "    def __init__(self, manufacturer: str, milage: float, color: str, fuel_type: str, years_of_use: float) -> None:\n",
    "        self.manufacturer = manufacturer\n",
    "        self.milage = milage\n",
    "        self.color = color\n",
    "        self.fuel_type = fuel_type\n",
    "        self.years_of_use = years_of_use \n",
    "\n",
    "    def _milage_per_year(self):\n",
    "        return self.milage/self.years_of_use\n",
    "    \n",
    "    def _total_fuel_consumption(self, fuel_per_mile: float):\n",
    "        return self.milage*fuel_per_mile\n",
    "    \n",
    "    def calculo(self, fuel_per_mile: float):\n",
    "        milage_year = self._milage_per_year()\n",
    "        fuel_con = self._total_fuel_consumption(fuel_per_mile)\n",
    "        return milage_year, fuel_con\n",
    "        "
   ]
  },
  {
   "cell_type": "code",
   "execution_count": 20,
   "metadata": {},
   "outputs": [],
   "source": [
    "carro_a = Carro(manufacturer=\"Mazda\", milage=15270, color=\"Negro\", fuel_type=\"Gasolina\", years_of_use=3)"
   ]
  },
  {
   "cell_type": "code",
   "execution_count": 21,
   "metadata": {},
   "outputs": [
    {
     "data": {
      "text/plain": [
       "__main__.Carro"
      ]
     },
     "execution_count": 21,
     "metadata": {},
     "output_type": "execute_result"
    }
   ],
   "source": [
    "type(carro_a)"
   ]
  },
  {
   "cell_type": "code",
   "execution_count": 22,
   "metadata": {},
   "outputs": [
    {
     "name": "stdout",
     "output_type": "stream",
     "text": [
      "5090.0 30540 (5090.0, 30540)\n"
     ]
    }
   ],
   "source": [
    "milage_per_year = carro_a._milage_per_year()\n",
    "fuel_consumption = carro_a._total_fuel_consumption(2)\n",
    "\n",
    "print(milage_per_year, fuel_consumption, carro_a.calculo(2))"
   ]
  },
  {
   "cell_type": "code",
   "execution_count": 18,
   "metadata": {},
   "outputs": [
    {
     "data": {
      "text/plain": [
       "np.int64(6)"
      ]
     },
     "execution_count": 18,
     "metadata": {},
     "output_type": "execute_result"
    }
   ],
   "source": [
    "import numpy as np\n",
    "\n",
    "vector_x = np.array([[1, 2, 3]])\n",
    "\n",
    "type(vector_x)\n",
    "\n",
    "vector_x.sum()"
   ]
  },
  {
   "cell_type": "code",
   "execution_count": 29,
   "metadata": {},
   "outputs": [],
   "source": [
    "class TubularReactor:\n",
    "    \n",
    "    def __init__(self, volumen: float, numero_tubos: float, longitud_tubos: float, diametro_tubo: float, temp_operacion: float, presion_operacion: float) -> None:\n",
    "\n",
    "        self.volumen = volumen\n",
    "        self.numero_tubos = numero_tubos\n",
    "        self.longitud_tubos = longitud_tubos\n",
    "        self.diametro_tubo = diametro_tubo\n",
    "        self.temp_operacion = temp_operacion\n",
    "        self.presion_operacion = presion_operacion\n",
    "        \n",
    "    def _conversion(self):\n",
    "        ...\n",
    "        \n",
    "    def _caida_presion(self):\n",
    "        ...\n",
    "        \n",
    "    def _cinetica_rxn(self):\n",
    "        ...\n",
    "        \n",
    "    def _rendimiento(self):\n",
    "        ...\n",
    "    \n",
    "    def _balances(self):\n",
    "        ...\n",
    "        \n",
    "    def solver(self):\n",
    "        \n",
    "        self._balances()\n",
    "        self._cinetica_rxn()\n",
    "        self._caida_presion()\n",
    "        \n",
    "        return self._rendimiento(), self._conversion()\n",
    "        "
   ]
  },
  {
   "cell_type": "code",
   "execution_count": 24,
   "metadata": {},
   "outputs": [
    {
     "ename": "TypeError",
     "evalue": "TubularReactor.__init__() missing 6 required positional arguments: 'volumen', 'numero_tubos', 'longitud_tubos', 'diametro_tubo', 'temp_operacion', and 'presion_operacion'",
     "output_type": "error",
     "traceback": [
      "\u001b[1;31m---------------------------------------------------------------------------\u001b[0m",
      "\u001b[1;31mTypeError\u001b[0m                                 Traceback (most recent call last)",
      "Cell \u001b[1;32mIn[24], line 1\u001b[0m\n\u001b[1;32m----> 1\u001b[0m R101 \u001b[38;5;241m=\u001b[39m \u001b[43mTubularReactor\u001b[49m\u001b[43m(\u001b[49m\u001b[43m)\u001b[49m\n\u001b[0;32m      2\u001b[0m rendimiento, conversion \u001b[38;5;241m=\u001b[39m R101\u001b[38;5;241m.\u001b[39msolver()\n",
      "\u001b[1;31mTypeError\u001b[0m: TubularReactor.__init__() missing 6 required positional arguments: 'volumen', 'numero_tubos', 'longitud_tubos', 'diametro_tubo', 'temp_operacion', and 'presion_operacion'"
     ]
    }
   ],
   "source": [
    "R101 = TubularReactor()\n",
    "rendimiento, conversion = R101.solver()"
   ]
  },
  {
   "cell_type": "markdown",
   "metadata": {},
   "source": [
    "### 2. Buenas prácticas de programación"
   ]
  },
  {
   "cell_type": "code",
   "execution_count": 30,
   "metadata": {},
   "outputs": [],
   "source": [
    "# Nombres de variables\n",
    "x = 60\n",
    "\n",
    "speed = 60 # Los nombres de las variables deben ser descriptivos\n",
    "\n",
    "car_speed = 60 # Si el nombre de la variable tiene varias palabras se separan con rayas al piso\n",
    "\n",
    "exchanger_E101_temperature = 100 # Es preferible un nombre no tan largo\n",
    "\n",
    "hex_E101_temp = 100     # Celsius\n",
    "\n",
    "# Aunque python no lo exige, se recomienda que si el código se va a compartir o se va a utilizar en producción, el definir los tipos \n",
    "# de las variables cuando se crean\n",
    "\n",
    "temp_E101: float = 100\n",
    "nombre_operacion: str = \"Destilación\"\n",
    "\n",
    "# Se recomienda manejar todo en un solo idioma, preferiblemente en ingles\n",
    "\n",
    "# Los nombres de las variables deben ser un minúscula, solamente se usa mayúscula para variables globales.\n",
    "AMB_TEMP: int = 25 # Celsius\n"
   ]
  },
  {
   "cell_type": "code",
   "execution_count": 16,
   "metadata": {},
   "outputs": [],
   "source": [
    "def liquid_pressure(tank_level: float, liquid_denstity: float) -> float:\n",
    "    \"\"\"Calculate liquid pressure at the bottom outlet of the tank T-101\n",
    "\n",
    "    Args:\n",
    "        tank_level (float): Level of tank T-101 (m)\n",
    "        liquid_denstity (float): Density of liquid in the tank (kg/m3)\n",
    "\n",
    "    Returns:\n",
    "        float: Liquid pressure at the oulet of the tank (kPa)\n",
    "    \"\"\"    \n",
    "    gravity: float = 9.8 # m/s2\n",
    "    outlet_pressure: float = tank_level*liquid_denstity*gravity/1000\n",
    "    \n",
    "    return outlet_pressure"
   ]
  },
  {
   "cell_type": "code",
   "execution_count": 31,
   "metadata": {},
   "outputs": [
    {
     "data": {
      "text/plain": [
       "'\\ndocstring\\n'"
      ]
     },
     "execution_count": 31,
     "metadata": {},
     "output_type": "execute_result"
    }
   ],
   "source": [
    "\"\"\"\n",
    "docstring\n",
    "\"\"\""
   ]
  },
  {
   "cell_type": "code",
   "execution_count": 32,
   "metadata": {},
   "outputs": [],
   "source": [
    "class Car:\n",
    "    \"\"\"The car class defines a car from it´s characteristics and allows to calculate it´s milage per year and \n",
    "        total fuel consumption\n",
    "        \n",
    "        Attributes: \n",
    "            manufacturer (str): Car manufacturer.\n",
    "            milage (float): Car milage.\n",
    "            color (str): Car color.\n",
    "            fuel_type (str): Fuel used by the car (Can select between gasoline, or NGV).\n",
    "            years_of_use: (str): Years of use of the car.\n",
    "    \"\"\"    \n",
    "    def __init__(self, manufacturer: str, milage: float, color: str, fuel_type: str, years_of_use: float) -> None:\n",
    "        self.manufacturer = manufacturer\n",
    "        self.milage = milage\n",
    "        self.color = color\n",
    "        self.fuel_type = fuel_type\n",
    "        self.years_of_use = years_of_use\n",
    "\n",
    "    def milage_per_year(self) -> float:\n",
    "        \"\"\"Calculate the car´s milage per year\n",
    "        \n",
    "        Returns:\n",
    "            float: milage per year \n",
    "        \"\"\"        \n",
    "        return self.milage/self.years_of_use\n",
    "    \n",
    "    def total_fuel_consumption(self, fuel_per_mile: float) -> float:\n",
    "        \"\"\"Calculate total fuel consumption in the lifespan of the car \n",
    "\n",
    "        Args:\n",
    "            fuel_per_mile (float): Fuel consumed per mile (gal/mile)\n",
    "\n",
    "        Returns:\n",
    "            float: Total car fuel consumption\n",
    "        \"\"\"        \n",
    "        return self.milage*fuel_per_mile"
   ]
  },
  {
   "cell_type": "code",
   "execution_count": null,
   "metadata": {},
   "outputs": [],
   "source": [
    "car_b = Car()"
   ]
  }
 ],
 "metadata": {
  "kernelspec": {
   "display_name": "bootcamp",
   "language": "python",
   "name": "python3"
  },
  "language_info": {
   "codemirror_mode": {
    "name": "ipython",
    "version": 3
   },
   "file_extension": ".py",
   "mimetype": "text/x-python",
   "name": "python",
   "nbconvert_exporter": "python",
   "pygments_lexer": "ipython3",
   "version": "3.11.9"
  }
 },
 "nbformat": 4,
 "nbformat_minor": 2
}
